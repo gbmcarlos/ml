{
 "cells": [
  {
   "cell_type": "code",
   "execution_count": null,
   "id": "e14acfa6-b0af-4842-b4fb-3ac4f49ef4b6",
   "metadata": {},
   "outputs": [],
   "source": [
    "!pip install --upgrade --no-cache-dir setuptools==57.5.0\n",
    "!pip install python-dotenv gdal==3.6.4"
   ]
  },
  {
   "cell_type": "markdown",
   "id": "0bf25dc0-7e5b-40e1-8958-d5eca51d3246",
   "metadata": {},
   "source": [
    "Load env vars file"
   ]
  },
  {
   "cell_type": "code",
   "execution_count": 2,
   "id": "68978b61-fbe1-410a-9a30-06b686cb74ce",
   "metadata": {
    "ExecuteTime": {
     "end_time": "2023-06-08T18:15:50.964137Z",
     "start_time": "2023-06-08T18:15:50.946212Z"
    }
   },
   "outputs": [],
   "source": [
    "%reload_ext dotenv\n",
    "%dotenv .env"
   ]
  },
  {
   "cell_type": "code",
   "execution_count": null,
   "id": "cb20186a-558d-454f-919a-f494fca99fff",
   "metadata": {},
   "outputs": [],
   "source": [
    "import os\n",
    "from dotenv import load_dotenv\n",
    "import concurrent\n",
    "import requests\n",
    "from osgeo import gdal\n",
    "from lib.download_dem_data import download_tile\n",
    "\n",
    "load_dotenv(\"local.env\")\n",
    "username = os.getenv(\"EARTHDATA_USERNAME\")\n",
    "password = os.getenv(\"EARTHDATA_PASSWORD\")\n",
    "tiles_url_root = os.getenv(\"TILES_URL_ROOT\") # The url prefix to use for the tile file names\n",
    "tiles_file_path = os.getenv(\"TILES_FILE_PATH\") # The path to a file containing a list of file names\n",
    "tiles_file = open(tiles_file_path) # The file containing a list of file names\n",
    "tile_file_names = tiles_file.readlines() # The list of file names\n",
    "\n",
    "def run():\n",
    "    output_path = \"data/earthdata_tiles\"\n",
    "    os.makedirs(output_path, exist_ok=True)\n",
    "    gdal.SetConfigOption('GDAL_PAM_ENABLED', 'NO')\n",
    "    \n",
    "    with requests.Session() as session:\n",
    "        session.auth = (username, password)\n",
    "\n",
    "        with concurrent.futures.ProcessPoolExecutor() as process_pool:\n",
    "            futures = []\n",
    "            for tile_file_name in tile_file_names:\n",
    "                download_url = os.path.join(tiles_url_root, tile_file_name.strip())\n",
    "                destination_path = os.path.join(output_path, tile_file_name.strip())\n",
    "                futures.append(process_pool.submit(download_tile, download_url, destination_path, session))\n",
    "\n",
    "            print(f'Downloading {len(futures)} files...')\n",
    "            for future in concurrent.futures.as_completed(futures):\n",
    "                print(future.result())\n",
    "        print('Done!')\n",
    "\n",
    "if __name__ == \"__main__\":\n",
    "    run()\n"
   ]
  },
  {
   "cell_type": "code",
   "execution_count": null,
   "id": "b3e160ae-ccd9-430e-af22-3021033197ab",
   "metadata": {},
   "outputs": [],
   "source": []
  }
 ],
 "metadata": {
  "kernelspec": {
   "display_name": "Python 3 (ipykernel)",
   "language": "python",
   "name": "python3"
  },
  "language_info": {
   "codemirror_mode": {
    "name": "ipython",
    "version": 3
   },
   "file_extension": ".py",
   "mimetype": "text/x-python",
   "name": "python",
   "nbconvert_exporter": "python",
   "pygments_lexer": "ipython3",
   "version": "3.8.0"
  }
 },
 "nbformat": 4,
 "nbformat_minor": 5
}
