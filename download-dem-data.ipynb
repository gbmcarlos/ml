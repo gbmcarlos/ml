{
 "cells": [
  {
   "cell_type": "markdown",
   "id": "08e845c3-e099-4f6d-8ca7-7fc181fad119",
   "metadata": {},
   "source": [
    "Get the system up-to-date"
   ]
  },
  {
   "cell_type": "code",
   "execution_count": null,
   "id": "155a081b-99a8-4f03-bc9a-9583ecf1bc9d",
   "metadata": {
    "tags": []
   },
   "outputs": [],
   "source": [
    "!sudo apt-get update\n",
    "!sudo apt-get -y upgrade\n",
    "!sudo apt -y autoremove\n",
    "!pip install --upgrade pip"
   ]
  },
  {
   "cell_type": "markdown",
   "id": "de7d1190-4f19-44cc-a785-b46814447321",
   "metadata": {},
   "source": [
    "Install system dependencies"
   ]
  },
  {
   "cell_type": "code",
   "execution_count": null,
   "id": "51afe662-6df5-4f10-982b-e3845c503086",
   "metadata": {},
   "outputs": [],
   "source": [
    "!sudo apt-get -y install libgdal-dev"
   ]
  },
  {
   "cell_type": "markdown",
   "id": "183d8db6-8e45-4ab2-b225-e65e56cba295",
   "metadata": {},
   "source": [
    "Install python packages"
   ]
  },
  {
   "cell_type": "code",
   "execution_count": null,
   "id": "e14acfa6-b0af-4842-b4fb-3ac4f49ef4b6",
   "metadata": {},
   "outputs": [],
   "source": [
    "!pip install python-dotenv gdal==3.0.4"
   ]
  },
  {
   "cell_type": "markdown",
   "id": "0bf25dc0-7e5b-40e1-8958-d5eca51d3246",
   "metadata": {},
   "source": [
    "Load env vars file"
   ]
  },
  {
   "cell_type": "code",
   "execution_count": null,
   "id": "68978b61-fbe1-410a-9a30-06b686cb74ce",
   "metadata": {},
   "outputs": [],
   "source": [
    "%load_ext dotenv\n",
    "%dotenv local.env"
   ]
  },
  {
   "cell_type": "code",
   "execution_count": null,
   "id": "cb20186a-558d-454f-919a-f494fca99fff",
   "metadata": {},
   "outputs": [],
   "source": [
    "import os\n",
    "import io\n",
    "import requests\n",
    "from dotenv import load_dotenv\n",
    "from osgeo import gdal\n",
    "\n",
    "load_dotenv(\"local.env\")\n",
    "username = os.getenv(\"EARTHDATA_USERNAME\")\n",
    "password = os.getenv(\"EARTHDATA_PASSWORD\")\n",
    "tiles_url_root = os.getenv(\"TILES_URL_ROOT\") # The url prefix to use for the tile file names\n",
    "tiles_file_path = os.getenv(\"TILES_FILE_PATH\") # The path to a file containing a list of file names\n",
    "tiles_file = open(tiles_file_path) # The file containing a list of file names\n",
    "tile_file_names = tiles_file.readlines() # The list of file names\n",
    "\n",
    "gdal.SetConfigOption('GDAL_PAM_ENABLED', 'NO')\n",
    "\n",
    "def process_tile_file(tile_file_path):\n",
    "    raster = gdal.Open(tile_file_path, gdal.GA_Update)\n",
    "    band = raster.GetRasterBand(1)\n",
    "    band.SetNoDataValue(-9999)\n",
    "    raster.FlushCache()\n",
    "    del band\n",
    "    del raster\n",
    "\n",
    "def download_tiles(tiles_url_root, tile_file_names, earthdata_username, earthdata_password, output_path):\n",
    "    with requests.Session() as session:\n",
    "        session.auth = (username, password)\n",
    "        \n",
    "        for i, tile_file_name in enumerate(tile_file_names):\n",
    "    \n",
    "            progress = f'[{i+1}/{len(tile_file_names)}]'\n",
    "            destination_path = os.path.join(output_path, tile_file_name.strip())\n",
    "            download_url = os.path.join(tiles_url_root, tile_file_name.strip())\n",
    "    \n",
    "            if (os.path.isfile(destination_path)):\n",
    "                print(f'{progress} File {destination_path} already exists')\n",
    "                continue;\n",
    "            \n",
    "            print(f\"{progress} Downloading '{download_url}'\")\n",
    "            flightRequest = session.request('get', download_url) # Make a flight request to get a session cookie\n",
    "            contentRequest = session.get(flightRequest.url, auth=(earthdata_username, earthdata_password))\n",
    "            if contentRequest.ok:\n",
    "                file = open(destination_path, 'wb')\n",
    "                file.write(contentRequest.content)\n",
    "                file.close()\n",
    "                process_tile_file(destination_path)\n",
    "            else:\n",
    "                print(\"Error: \" + contentRequest.status_code + \", \" + contentRequest.text)\n",
    "        print('Done!')\n",
    "\n",
    "output_path = \"earthdata_tiles\"\n",
    "os.makedirs(output_path, exist_ok=True)\n",
    "download_tiles(\n",
    "    tiles_url_root, tile_file_names,\n",
    "    username, password,\n",
    "    output_path\n",
    ")\n"
   ]
  },
  {
   "cell_type": "code",
   "execution_count": null,
   "id": "0725380a-fbaf-4a60-a803-45048a6e708f",
   "metadata": {},
   "outputs": [],
   "source": []
  }
 ],
 "metadata": {
  "kernelspec": {
   "display_name": "Python 3",
   "language": "python",
   "name": "python3"
  },
  "language_info": {
   "codemirror_mode": {
    "name": "ipython",
    "version": 3
   },
   "file_extension": ".py",
   "mimetype": "text/x-python",
   "name": "python",
   "nbconvert_exporter": "python",
   "pygments_lexer": "ipython3",
   "version": "3.8.10"
  }
 },
 "nbformat": 4,
 "nbformat_minor": 5
}
