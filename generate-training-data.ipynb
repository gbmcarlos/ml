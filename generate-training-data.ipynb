{
 "cells": [
  {
   "cell_type": "code",
   "execution_count": null,
   "id": "0eaa6a07-e61d-4240-aec0-282cd2cd5915",
   "metadata": {},
   "outputs": [],
   "source": [
    "!pip install --upgrade --no-cache-dir setuptools==57.5.0\n",
    "!pip install python-dotenv gdal==3.6.4"
   ]
  },
  {
   "cell_type": "code",
   "execution_count": null,
   "id": "cdcb6ec4-6708-4565-95cd-852c75523a4e",
   "metadata": {},
   "outputs": [],
   "source": [
    "!pip install pillow matplotlib ipynb pysheds\n",
    "!pip install \"numexpr>=2.7.3\""
   ]
  },
  {
   "cell_type": "code",
   "execution_count": null,
   "id": "b034c7db-bfc5-4bab-85dd-c923ee4ccfcc",
   "metadata": {},
   "outputs": [],
   "source": [
    "import os\n",
    "import numpy as np\n",
    "import pathlib\n",
    "import matplotlib.pyplot as plt\n",
    "import cv2\n",
    "import concurrent\n",
    "from importlib import reload\n",
    "# reload(lib.generate_training_data)\n",
    "from lib.generate_training_data import generate_sketch\n",
    "\n",
    "def run(options, async_exec):\n",
    "    dems = []\n",
    "    sketches = []\n",
    "    tile_file_paths = [f for f in pathlib.Path(options[\"input_path\"]).glob('*.tif')]\n",
    "\n",
    "    if async_exec:\n",
    "        with concurrent.futures.ProcessPoolExecutor() as process_pool:\n",
    "            futures = []\n",
    "            for tile_file_path in tile_file_paths:\n",
    "                tile_file_path = str(tile_file_path)\n",
    "                futures.append(process_pool.submit(generate_sketch, tile_file_path, options))\n",
    "    \n",
    "            print(f'Processing {len(futures)} images...')\n",
    "            for future in concurrent.futures.as_completed(futures):\n",
    "                sketch_id, dem, sketch = future.result()\n",
    "                dems.append(dem)\n",
    "                sketches.append(sketch)\n",
    "                print(f'Processed {sketch_id}')\n",
    "    else:\n",
    "        for i, tile_file_path in enumerate(tile_file_paths):\n",
    "            tile_file_path = str(tile_file_path)\n",
    "            sketch_id = os.path.basename(tile_file_path)\n",
    "            progress = f'[{i+1}/{len(tile_file_paths)}]'\n",
    "            print(f'{progress} Processing {sketch_id} ...')\n",
    "\n",
    "            sketch_id, dem, sketch = generate_sketch(tile_file_path, options)\n",
    "            dems.append(dem)\n",
    "            sketches.append(sketch)\n",
    "            print(f'{progress} Processed {sketch_id}')\n",
    "            \n",
    "    training_input = np.array(sketches)\n",
    "    training_output = np.array(dems)\n",
    "    np.savez(options['output_path'], x=training_input, y=training_output)\n",
    "        \n",
    "    print('Done!')\n",
    "\n",
    "if __name__ == \"__main__\":\n",
    "    run({\n",
    "        \"input_path\": \"data/earthdata_tiles\",\n",
    "        \"output_path\": \"data/training_data.npz\",\n",
    "        \"flow_threshold\": 230,\n",
    "        \"dem_target_size\": 3600,\n",
    "        \"sketch_target_size\": 512\n",
    "    }, True)\n"
   ]
  },
  {
   "cell_type": "code",
   "execution_count": null,
   "id": "276c4e99-e2b2-46e4-8a5c-cd5f3ad339a1",
   "metadata": {},
   "outputs": [],
   "source": [
    "# Visualize training data\n",
    "import matplotlib.pyplot as plt\n",
    "import numpy as np\n",
    "\n",
    "training_data = np.load('training_data.npz')\n",
    "sketches = training_data['x']\n",
    "dems = training_data['y']\n",
    "\n",
    "for index in range(len(sketches)):\n",
    "    plt.figure(figsize=(10, 20))\n",
    "    plt.subplot(1, 2, 1)\n",
    "    plt.imshow(sketches[index])\n",
    "    plt.subplot(1, 2, 2)\n",
    "    plt.imshow(dems[index], cmap='viridis')\n",
    "    plt.show()\n"
   ]
  },
  {
   "cell_type": "code",
   "execution_count": null,
   "id": "d1221e85-e2db-4c0f-b1a3-172d4143e5bd",
   "metadata": {},
   "outputs": [],
   "source": []
  }
 ],
 "metadata": {
  "kernelspec": {
   "display_name": "Python 3 (ipykernel)",
   "language": "python",
   "name": "python3"
  },
  "language_info": {
   "codemirror_mode": {
    "name": "ipython",
    "version": 3
   },
   "file_extension": ".py",
   "mimetype": "text/x-python",
   "name": "python",
   "nbconvert_exporter": "python",
   "pygments_lexer": "ipython3",
   "version": "3.8.0"
  }
 },
 "nbformat": 4,
 "nbformat_minor": 5
}
