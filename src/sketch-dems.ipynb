{
 "cells": [
  {
   "cell_type": "code",
   "execution_count": null,
   "id": "276c4e99-e2b2-46e4-8a5c-cd5f3ad339a1",
   "metadata": {},
   "outputs": [],
   "source": [
    "import matplotlib.pyplot as plt\n",
    "import numpy as np\n",
    "import os, glob\n",
    "import cv2\n",
    "from lib.services import sketch_service\n",
    "import download\n",
    "\n",
    "for i, (dem, tile_id) in enumerate(download.download_dems(\"config/settings.yaml\")):\n",
    "\tsketch = sketch_service.sketch_dem(dem, 230)\n",
    "\tsketch = np.transpose(sketch, (1, 2, 0)) # CHW -> HWC\n",
    "\tif (i == 0):\n",
    "\t\t\tprint('dem    ->', 'type:', type(dem), 'dtype:', dem.dtype, 'shape:', dem.shape, 'range:', [dem.min(), dem.max()])\n",
    "\t\t\tprint('sketch ->', 'type:', type(sketch), 'dtype:', sketch.dtype, 'shape:', sketch.shape, 'range:', [sketch.min(), sketch.max()])\n",
    "\t\t\n",
    "\tplt.figure(figsize=(10, 20))\n",
    "\tplt.subplot(1, 2, 1)\n",
    "\tplt.imshow(dem, cmap='Greys')\n",
    "\tplt.subplot(1, 2, 2)\n",
    "\tplt.imshow(sketch)\n",
    "\tplt.show()\n",
    "\n"
   ]
  }
 ],
 "metadata": {
  "kernelspec": {
   "display_name": "Python 3 (ipykernel)",
   "language": "python",
   "name": "python3"
  },
  "language_info": {
   "codemirror_mode": {
    "name": "ipython",
    "version": 3
   },
   "file_extension": ".py",
   "mimetype": "text/x-python",
   "name": "python",
   "nbconvert_exporter": "python",
   "pygments_lexer": "ipython3",
   "version": "3.8.0"
  }
 },
 "nbformat": 4,
 "nbformat_minor": 5
}
