{
 "cells": [
  {
   "cell_type": "code",
   "execution_count": null,
   "id": "e14acfa6-b0af-4842-b4fb-3ac4f49ef4b6",
   "metadata": {},
   "outputs": [],
   "source": [
    "!pip install python-dotenv"
   ]
  },
  {
   "cell_type": "code",
   "execution_count": null,
   "id": "cb20186a-558d-454f-919a-f494fca99fff",
   "metadata": {},
   "outputs": [],
   "source": [
    "import os\n",
    "from dotenv import load_dotenv\n",
    "import concurrent\n",
    "import requests\n",
    "from osgeo import gdal\n",
    "import lib\n",
    "from importlib import reload\n",
    "reload(lib)\n",
    "\n",
    "load_dotenv()\n",
    "username = os.getenv(\"EARTHDATA_USERNAME\")\n",
    "password = os.getenv(\"EARTHDATA_PASSWORD\")\n",
    "tiles_url_root = os.getenv(\"TILES_URL_ROOT\") # The url prefix to use for the tile file names\n",
    "tiles_file_path = os.getenv(\"TILES_FILE_PATH\") # The path to a file containing a list of file names\n",
    "tiles_file = open(tiles_file_path) # The file containing a list of file names\n",
    "tile_file_names = tiles_file.readlines() # The list of file names\n",
    "\n",
    "def run(sequential):\n",
    "    output_path = \"data/earthdata_tiles\"\n",
    "    os.makedirs(output_path, exist_ok=True)\n",
    "    gdal.SetConfigOption('GDAL_PAM_ENABLED', 'NO')\n",
    "    \n",
    "    with requests.Session() as session:\n",
    "        session.auth = (username, password)\n",
    "\n",
    "        print(f'Downloading {len(tile_file_names)} files...')\n",
    "        for tile_file_name in tile_file_names:\n",
    "            tile_file_name = tile_file_name.strip()\n",
    "\n",
    "            if sequential:\n",
    "                lib.download_tile(\n",
    "                    tiles_url_root, output_path, tile_file_name, session\n",
    "                )\n",
    "            else:\n",
    "                with concurrent.futures.ProcessPoolExecutor() as process_pool:\n",
    "                    futures = []\n",
    "                    futures.append(process_pool.submit(\n",
    "                        lib.download_tile,\n",
    "                        tiles_url_root, output_path, tile_file_name, session\n",
    "                    ))\n",
    "                    for future in concurrent.futures.as_completed(futures):\n",
    "                        future.result()\n",
    "\n",
    "        print('Done!')\n",
    "\n",
    "if __name__ == \"__main__\":\n",
    "    run(True)\n"
   ]
  },
  {
   "cell_type": "code",
   "execution_count": null,
   "outputs": [],
   "source": [],
   "metadata": {
    "collapsed": false
   }
  }
 ],
 "metadata": {
  "kernelspec": {
   "display_name": "Python 3 (ipykernel)",
   "language": "python",
   "name": "python3"
  },
  "language_info": {
   "codemirror_mode": {
    "name": "ipython",
    "version": 3
   },
   "file_extension": ".py",
   "mimetype": "text/x-python",
   "name": "python",
   "nbconvert_exporter": "python",
   "pygments_lexer": "ipython3",
   "version": "3.8.0"
  }
 },
 "nbformat": 4,
 "nbformat_minor": 5
}
