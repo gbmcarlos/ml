{
 "cells": [
  {
   "cell_type": "code",
   "execution_count": null,
   "id": "e14acfa6-b0af-4842-b4fb-3ac4f49ef4b6",
   "metadata": {},
   "outputs": [],
   "source": [
    "!pip install python-dotenv"
   ]
  },
  {
   "cell_type": "code",
   "execution_count": 1,
   "id": "cb20186a-558d-454f-919a-f494fca99fff",
   "metadata": {
    "ExecuteTime": {
     "end_time": "2023-06-25T15:41:06.206354Z",
     "start_time": "2023-06-25T15:41:05.721810Z"
    }
   },
   "outputs": [
    {
     "name": "stdout",
     "output_type": "stream",
     "text": [
      "Downloading 1 files...\n"
     ]
    },
    {
     "ename": "AttributeError",
     "evalue": "module 'lib' has no attribute 'download_tile'",
     "output_type": "error",
     "traceback": [
      "\u001B[0;31m---------------------------------------------------------------------------\u001B[0m",
      "\u001B[0;31mAttributeError\u001B[0m                            Traceback (most recent call last)",
      "Cell \u001B[0;32mIn[1], line 47\u001B[0m\n\u001B[1;32m     44\u001B[0m         \u001B[38;5;28mprint\u001B[39m(\u001B[38;5;124m'\u001B[39m\u001B[38;5;124mDone!\u001B[39m\u001B[38;5;124m'\u001B[39m)\n\u001B[1;32m     46\u001B[0m \u001B[38;5;28;01mif\u001B[39;00m \u001B[38;5;18m__name__\u001B[39m \u001B[38;5;241m==\u001B[39m \u001B[38;5;124m\"\u001B[39m\u001B[38;5;124m__main__\u001B[39m\u001B[38;5;124m\"\u001B[39m:\n\u001B[0;32m---> 47\u001B[0m     \u001B[43mrun\u001B[49m\u001B[43m(\u001B[49m\u001B[38;5;28;43;01mTrue\u001B[39;49;00m\u001B[43m)\u001B[49m\n",
      "Cell \u001B[0;32mIn[1], line 31\u001B[0m, in \u001B[0;36mrun\u001B[0;34m(sequential)\u001B[0m\n\u001B[1;32m     28\u001B[0m tile_file_name \u001B[38;5;241m=\u001B[39m tile_file_name\u001B[38;5;241m.\u001B[39mstrip()\n\u001B[1;32m     30\u001B[0m \u001B[38;5;28;01mif\u001B[39;00m sequential:\n\u001B[0;32m---> 31\u001B[0m     \u001B[43mlib\u001B[49m\u001B[38;5;241;43m.\u001B[39;49m\u001B[43mdownload_tile\u001B[49m(\n\u001B[1;32m     32\u001B[0m         tiles_url_root, output_path, tile_file_name, session\n\u001B[1;32m     33\u001B[0m     )\n\u001B[1;32m     34\u001B[0m \u001B[38;5;28;01melse\u001B[39;00m:\n\u001B[1;32m     35\u001B[0m     \u001B[38;5;28;01mwith\u001B[39;00m concurrent\u001B[38;5;241m.\u001B[39mfutures\u001B[38;5;241m.\u001B[39mProcessPoolExecutor() \u001B[38;5;28;01mas\u001B[39;00m process_pool:\n",
      "\u001B[0;31mAttributeError\u001B[0m: module 'lib' has no attribute 'download_tile'"
     ]
    }
   ],
   "source": [
    "import os\n",
    "from dotenv import load_dotenv\n",
    "import concurrent\n",
    "import requests\n",
    "from osgeo import gdal\n",
    "import lib\n",
    "from importlib import reload\n",
    "reload(lib)\n",
    "\n",
    "load_dotenv()\n",
    "username = os.getenv(\"EARTHDATA_USERNAME\")\n",
    "password = os.getenv(\"EARTHDATA_PASSWORD\")\n",
    "tiles_url_root = os.getenv(\"TILES_URL_ROOT\") # The url prefix to use for the tile file names\n",
    "tiles_file_path = os.getenv(\"TILES_FILE_PATH\") # The path to a file containing a list of file names\n",
    "tiles_file = open(tiles_file_path) # The file containing a list of file names\n",
    "tile_file_names = tiles_file.readlines() # The list of file names\n",
    "\n",
    "def run(sequential):\n",
    "    output_path = \"data/earthdata_tiles\"\n",
    "    os.makedirs(output_path, exist_ok=True)\n",
    "    gdal.SetConfigOption('GDAL_PAM_ENABLED', 'NO')\n",
    "    \n",
    "    with requests.Session() as session:\n",
    "        session.auth = (username, password)\n",
    "\n",
    "        print(f'Downloading {len(tile_file_names)} files...')\n",
    "        for tile_file_name in tile_file_names:\n",
    "            tile_file_name = tile_file_name.strip()\n",
    "\n",
    "            if sequential:\n",
    "                lib.download_tile(\n",
    "                    tiles_url_root, output_path, tile_file_name, session\n",
    "                )\n",
    "            else:\n",
    "                with concurrent.futures.ProcessPoolExecutor() as process_pool:\n",
    "                    futures = []\n",
    "                    futures.append(process_pool.submit(\n",
    "                        lib.download_tile,\n",
    "                        tiles_url_root, output_path, tile_file_name, session\n",
    "                    ))\n",
    "                    for future in concurrent.futures.as_completed(futures):\n",
    "                        future.result()\n",
    "\n",
    "        print('Done!')\n",
    "\n",
    "if __name__ == \"__main__\":\n",
    "    run(True)\n"
   ]
  },
  {
   "cell_type": "code",
   "execution_count": null,
   "outputs": [],
   "source": [],
   "metadata": {
    "collapsed": false
   }
  }
 ],
 "metadata": {
  "kernelspec": {
   "display_name": "Python 3 (ipykernel)",
   "language": "python",
   "name": "python3"
  },
  "language_info": {
   "codemirror_mode": {
    "name": "ipython",
    "version": 3
   },
   "file_extension": ".py",
   "mimetype": "text/x-python",
   "name": "python",
   "nbconvert_exporter": "python",
   "pygments_lexer": "ipython3",
   "version": "3.8.0"
  }
 },
 "nbformat": 4,
 "nbformat_minor": 5
}
