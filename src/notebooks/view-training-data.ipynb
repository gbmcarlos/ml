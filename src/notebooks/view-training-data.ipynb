{
 "cells": [
  {
   "cell_type": "code",
   "execution_count": null,
   "id": "276c4e99-e2b2-46e4-8a5c-cd5f3ad339a1",
   "metadata": {},
   "outputs": [],
   "source": [
    "# Visualize training data\n",
    "import matplotlib.pyplot as plt\n",
    "import numpy as np\n",
    "import os\n",
    "\n",
    "for file in os.listdir('../data/training'):\n",
    "    training_data = np.load(\"../data/training/\" + file)\n",
    "    sketch = training_data['sketch']\n",
    "    sketch = np.transpose(sketch, (1, 2, 0))\n",
    "    dem = training_data['dem']\n",
    "    dem = np.transpose(dem, (1, 2, 0))\n",
    "    plt.figure(figsize=(10, 20))\n",
    "    plt.subplot(1, 2, 1)\n",
    "    plt.imshow(sketch)\n",
    "    plt.subplot(1, 2, 2)\n",
    "    plt.imshow(dem, cmap='viridis')\n",
    "    plt.show()\n"
   ]
  }
 ],
 "metadata": {
  "kernelspec": {
   "display_name": "Python 3 (ipykernel)",
   "language": "python",
   "name": "python3"
  },
  "language_info": {
   "codemirror_mode": {
    "name": "ipython",
    "version": 3
   },
   "file_extension": ".py",
   "mimetype": "text/x-python",
   "name": "python",
   "nbconvert_exporter": "python",
   "pygments_lexer": "ipython3",
   "version": "3.8.0"
  }
 },
 "nbformat": 4,
 "nbformat_minor": 5
}
