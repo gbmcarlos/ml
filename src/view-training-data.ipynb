{
 "cells": [
  {
   "cell_type": "code",
   "execution_count": null,
   "id": "276c4e99-e2b2-46e4-8a5c-cd5f3ad339a1",
   "metadata": {},
   "outputs": [],
   "source": [
    "import matplotlib.pyplot as plt\n",
    "import numpy as np\n",
    "import os, glob\n",
    "import cv2\n",
    "from lib.services.sketch_service import generate_sketch\n",
    "\n",
    "training_data_folder = 'data/training/mountains-test'\n",
    "data = glob.glob(training_data_folder + '/*.npz')\n",
    "print(f\"Found {len(data)} training samples\")\n",
    "for i, file in enumerate(data):\n",
    "\n",
    "    training_data = np.load(file)\n",
    "    sketch = training_data['sketch']\n",
    "    dem = training_data['dem']\n",
    "    \n",
    "    if (i == 0):\n",
    "        print('sketch ->', 'type:', type(sketch), 'dtype:', sketch.dtype, 'shape:', sketch.shape, 'range:', [sketch.min(), sketch.max()])\n",
    "        print('dem    ->', 'type:', type(dem), 'dtype:', dem.dtype, 'shape:', dem.shape, 'range:', [dem.min(), dem.max()])\n",
    "    \n",
    "    plt.figure(figsize=(10, 20))\n",
    "    plt.subplot(1, 2, 1)\n",
    "    plt.imshow(sketch)\n",
    "    plt.subplot(1, 2, 2)\n",
    "    plt.imshow(dem, cmap='Greys')\n",
    "    plt.show()\n"
   ]
  }
 ],
 "metadata": {
  "kernelspec": {
   "display_name": "Python 3 (ipykernel)",
   "language": "python",
   "name": "python3"
  },
  "language_info": {
   "codemirror_mode": {
    "name": "ipython",
    "version": 3
   },
   "file_extension": ".py",
   "mimetype": "text/x-python",
   "name": "python",
   "nbconvert_exporter": "python",
   "pygments_lexer": "ipython3",
   "version": "3.8.0"
  }
 },
 "nbformat": 4,
 "nbformat_minor": 5
}
